{
 "cells": [
  {
   "cell_type": "code",
   "execution_count": 1,
   "metadata": {
    "colab": {
     "base_uri": "https://localhost:8080/"
    },
    "id": "2crZEfx7UCU4",
    "outputId": "2edc2d21-d275-472a-ec48-871c16010338"
   },
   "outputs": [
    {
     "name": "stdout",
     "output_type": "stream",
     "text": [
      "Mon May 26 21:27:42 2025       \n",
      "+-----------------------------------------------------------------------------------------+\n",
      "| NVIDIA-SMI 550.54.15              Driver Version: 550.54.15      CUDA Version: 12.4     |\n",
      "|-----------------------------------------+------------------------+----------------------+\n",
      "| GPU  Name                 Persistence-M | Bus-Id          Disp.A | Volatile Uncorr. ECC |\n",
      "| Fan  Temp   Perf          Pwr:Usage/Cap |           Memory-Usage | GPU-Util  Compute M. |\n",
      "|                                         |                        |               MIG M. |\n",
      "|=========================================+========================+======================|\n",
      "|   0  Tesla T4                       Off |   00000000:00:04.0 Off |                    0 |\n",
      "| N/A   36C    P8              9W /   70W |       0MiB /  15360MiB |      0%      Default |\n",
      "|                                         |                        |                  N/A |\n",
      "+-----------------------------------------+------------------------+----------------------+\n",
      "                                                                                         \n",
      "+-----------------------------------------------------------------------------------------+\n",
      "| Processes:                                                                              |\n",
      "|  GPU   GI   CI        PID   Type   Process name                              GPU Memory |\n",
      "|        ID   ID                                                               Usage      |\n",
      "|=========================================================================================|\n",
      "|  No running processes found                                                             |\n",
      "+-----------------------------------------------------------------------------------------+\n"
     ]
    }
   ],
   "source": [
    "!nvidia-smi"
   ]
  },
  {
   "cell_type": "markdown",
   "metadata": {
    "id": "WLmIrKT6XKw6"
   },
   "source": [
    "### 1. Імпорти та налаштування середовища"
   ]
  },
  {
   "cell_type": "code",
   "execution_count": 1,
   "metadata": {
    "colab": {
     "base_uri": "https://localhost:8080/"
    },
    "id": "1P_QjVjUXNfL",
    "outputId": "7afeb716-a2a0-40c0-d3a1-25b19a424957"
   },
   "outputs": [
    {
     "name": "stderr",
     "output_type": "stream",
     "text": [
      "[nltk_data] Downloading package stopwords to\n",
      "[nltk_data]     C:\\Users\\linam\\AppData\\Roaming\\nltk_data...\n",
      "[nltk_data]   Package stopwords is already up-to-date!\n",
      "[nltk_data] Downloading package wordnet to\n",
      "[nltk_data]     C:\\Users\\linam\\AppData\\Roaming\\nltk_data...\n",
      "[nltk_data]   Package wordnet is already up-to-date!\n",
      "C:\\Users\\linam\\AppData\\Local\\Programs\\Python\\Python312\\Lib\\site-packages\\tqdm\\auto.py:21: TqdmWarning: IProgress not found. Please update jupyter and ipywidgets. See https://ipywidgets.readthedocs.io/en/stable/user_install.html\n",
      "  from .autonotebook import tqdm as notebook_tqdm\n"
     ]
    }
   ],
   "source": [
    "# 1) Імпорти\n",
    "import pandas as pd\n",
    "import numpy as np\n",
    "import re\n",
    "import matplotlib.pyplot as plt\n",
    "import seaborn as sns\n",
    "from dateutil import parser\n",
    "\n",
    "# ML\n",
    "from sklearn.model_selection import train_test_split, GridSearchCV, StratifiedKFold\n",
    "from sklearn.feature_extraction.text import CountVectorizer, TfidfVectorizer\n",
    "from sklearn.linear_model import LogisticRegression\n",
    "from sklearn.ensemble import RandomForestClassifier\n",
    "from xgboost import XGBClassifier\n",
    "from sklearn.metrics import classification_report, f1_score, confusion_matrix, accuracy_score\n",
    "from sklearn.pipeline import Pipeline\n",
    "\n",
    "# NLP\n",
    "import nltk\n",
    "from nltk.corpus import stopwords\n",
    "from nltk.stem import WordNetLemmatizer\n",
    "nltk.download('stopwords')\n",
    "nltk.download('wordnet')\n",
    "\n",
    "# Transformers\n",
    "from transformers import BertTokenizer, BertForSequenceClassification, Trainer, TrainingArguments, DataCollatorWithPadding, TrainingArguments\n",
    "import torch"
   ]
  },
  {
   "cell_type": "markdown",
   "metadata": {
    "id": "iatyVB5tXYkJ"
   },
   "source": [
    "### 2. Завантаження даних і EDA"
   ]
  },
  {
   "cell_type": "markdown",
   "metadata": {
    "id": "M-53T6TfXj2m"
   },
   "source": [
    "У цій секції ми:\n",
    "1. Читаємо вихідний файл `fake_news_full_data.csv`.\n",
    "2. Видаляємо зайвий стовпець `Unnamed: 0`, який дублює індекс.\n",
    "3. Парсимо колонки з датою у формат `datetime`.\n",
    "4. Додаємо прапорець `date_missing` для рядків з невдалим парсингом.\n",
    "5. Генеруємо нові ознаки з дати: `month`, `weekday`, `year`, `is_weekend`.\n",
    "6. Обчислюємо текстові фічі\n",
    "\n",
    "**2.1. Завантаження датасету**"
   ]
  },
  {
   "cell_type": "code",
   "execution_count": 2,
   "metadata": {
    "id": "7vZQ-8pYXq_-"
   },
   "outputs": [],
   "source": [
    "df_raw = pd.read_csv('fake_news_full_data.csv')\n",
    "df = df_raw.copy()"
   ]
  },
  {
   "cell_type": "code",
   "execution_count": 3,
   "metadata": {
    "colab": {
     "base_uri": "https://localhost:8080/",
     "height": 676
    },
    "id": "68yiSJGBiJIj",
    "outputId": "fb39fe30-aada-4815-825a-1a3041c55981"
   },
   "outputs": [
    {
     "data": {
      "text/html": [
       "<div>\n",
       "<style scoped>\n",
       "    .dataframe tbody tr th:only-of-type {\n",
       "        vertical-align: middle;\n",
       "    }\n",
       "\n",
       "    .dataframe tbody tr th {\n",
       "        vertical-align: top;\n",
       "    }\n",
       "\n",
       "    .dataframe thead th {\n",
       "        text-align: right;\n",
       "    }\n",
       "</style>\n",
       "<table border=\"1\" class=\"dataframe\">\n",
       "  <thead>\n",
       "    <tr style=\"text-align: right;\">\n",
       "      <th></th>\n",
       "      <th>Unnamed: 0</th>\n",
       "      <th>title</th>\n",
       "      <th>text</th>\n",
       "      <th>date</th>\n",
       "      <th>is_fake</th>\n",
       "    </tr>\n",
       "  </thead>\n",
       "  <tbody>\n",
       "    <tr>\n",
       "      <th>0</th>\n",
       "      <td>0</td>\n",
       "      <td>Earthquake hits off Papua New Guinea</td>\n",
       "      <td>LONDON (Reuters) - A magnitude 5.9 earthquake ...</td>\n",
       "      <td>September 17, 2017</td>\n",
       "      <td>0</td>\n",
       "    </tr>\n",
       "    <tr>\n",
       "      <th>1</th>\n",
       "      <td>1</td>\n",
       "      <td>CINDY MCCAIN Reportedly Accepts Trump Administ...</td>\n",
       "      <td>The Hill released controversial comments sore ...</td>\n",
       "      <td>Jun 12, 2017</td>\n",
       "      <td>1</td>\n",
       "    </tr>\n",
       "    <tr>\n",
       "      <th>2</th>\n",
       "      <td>2</td>\n",
       "      <td>Prosecutors say ex-House Speaker Hastert sexua...</td>\n",
       "      <td>(Reuters) - Former U.S. House Speaker Dennis H...</td>\n",
       "      <td>April 9, 2016</td>\n",
       "      <td>0</td>\n",
       "    </tr>\n",
       "    <tr>\n",
       "      <th>3</th>\n",
       "      <td>3</td>\n",
       "      <td>Romanian protesters halt building of Xmas fair...</td>\n",
       "      <td>BUCHAREST (Reuters) - Romanian protesters clas...</td>\n",
       "      <td>December 2, 2017</td>\n",
       "      <td>0</td>\n",
       "    </tr>\n",
       "    <tr>\n",
       "      <th>4</th>\n",
       "      <td>4</td>\n",
       "      <td>Congo elected to U.N. rights council; Britain,...</td>\n",
       "      <td>UNITED NATIONS (Reuters) - Democratic Republic...</td>\n",
       "      <td>October 16, 2017</td>\n",
       "      <td>0</td>\n",
       "    </tr>\n",
       "    <tr>\n",
       "      <th>5</th>\n",
       "      <td>5</td>\n",
       "      <td>‘Alt-Right’ White House Reporter Gets Fooled ...</td>\n",
       "      <td>When Donald Trump allowed popular Nazi blog Th...</td>\n",
       "      <td>November 2, 2017</td>\n",
       "      <td>1</td>\n",
       "    </tr>\n",
       "    <tr>\n",
       "      <th>6</th>\n",
       "      <td>6</td>\n",
       "      <td>IRONY: Only Political Party With Black Preside...</td>\n",
       "      <td>Who knew the radical leftist #BlackLivesMatter...</td>\n",
       "      <td>Jul 28, 2015</td>\n",
       "      <td>1</td>\n",
       "    </tr>\n",
       "    <tr>\n",
       "      <th>7</th>\n",
       "      <td>7</td>\n",
       "      <td>Trump Supporter Laura Ingraham FAILS With Fak...</td>\n",
       "      <td>You know how conservatives are constantly scre...</td>\n",
       "      <td>August 24, 2017</td>\n",
       "      <td>1</td>\n",
       "    </tr>\n",
       "    <tr>\n",
       "      <th>8</th>\n",
       "      <td>8</td>\n",
       "      <td>LT COL TONY SHAFFER: Muslim DNC IT Staffers Se...</td>\n",
       "      <td>Lt. Col. Tony Shaffer opened a can of worms to...</td>\n",
       "      <td>Jul 28, 2017</td>\n",
       "      <td>1</td>\n",
       "    </tr>\n",
       "    <tr>\n",
       "      <th>9</th>\n",
       "      <td>9</td>\n",
       "      <td>Rajoy: Spain will not be divided, national uni...</td>\n",
       "      <td>BERLIN (Reuters) - Spanish Prime Minister Mari...</td>\n",
       "      <td>October 9, 2017</td>\n",
       "      <td>0</td>\n",
       "    </tr>\n",
       "    <tr>\n",
       "      <th>10</th>\n",
       "      <td>10</td>\n",
       "      <td>Court appeal argues California emissions tradi...</td>\n",
       "      <td>SAN FRANCISCO (Reuters) - Parties in a four-ye...</td>\n",
       "      <td>January 24, 2017</td>\n",
       "      <td>0</td>\n",
       "    </tr>\n",
       "    <tr>\n",
       "      <th>11</th>\n",
       "      <td>11</td>\n",
       "      <td>Spanish lender Sabadell to transfer legal base...</td>\n",
       "      <td>MADRID (Reuters) - Spanish lender Sabadell dec...</td>\n",
       "      <td>October 5, 2017</td>\n",
       "      <td>0</td>\n",
       "    </tr>\n",
       "    <tr>\n",
       "      <th>12</th>\n",
       "      <td>12</td>\n",
       "      <td>Obama Joins Comedy Central Host to Push ‘Laugh...</td>\n",
       "      <td>21st Century Wire says President Obama is once...</td>\n",
       "      <td>December 15, 2016</td>\n",
       "      <td>1</td>\n",
       "    </tr>\n",
       "    <tr>\n",
       "      <th>13</th>\n",
       "      <td>13</td>\n",
       "      <td>Syria Strikes: This is NOT The Donald Trump We...</td>\n",
       "      <td>21st Century Wire says Not at all.Yesterday s ...</td>\n",
       "      <td>April 7, 2017</td>\n",
       "      <td>1</td>\n",
       "    </tr>\n",
       "    <tr>\n",
       "      <th>14</th>\n",
       "      <td>14</td>\n",
       "      <td>Republican Stuns In Brutally Honest Reaction ...</td>\n",
       "      <td>With the unveiling of the Senate Republicans  ...</td>\n",
       "      <td>June 24, 2017</td>\n",
       "      <td>1</td>\n",
       "    </tr>\n",
       "    <tr>\n",
       "      <th>15</th>\n",
       "      <td>15</td>\n",
       "      <td>BOLD! HOLLYWOOD ACTOR Speaks Up For Trump…Tell...</td>\n",
       "      <td></td>\n",
       "      <td>Feb 2, 2017</td>\n",
       "      <td>1</td>\n",
       "    </tr>\n",
       "    <tr>\n",
       "      <th>16</th>\n",
       "      <td>16</td>\n",
       "      <td>Japan's Abe vows to put education spending bef...</td>\n",
       "      <td>TOKYO (Reuters) - Japan s prime minister has v...</td>\n",
       "      <td>October 23, 2017</td>\n",
       "      <td>0</td>\n",
       "    </tr>\n",
       "    <tr>\n",
       "      <th>17</th>\n",
       "      <td>17</td>\n",
       "      <td>“FRIGHTENING TREND”: Helmet-Cam Video Released...</td>\n",
       "      <td>The thrill seekers on motorcycles are putting ...</td>\n",
       "      <td>Apr 24, 2016</td>\n",
       "      <td>1</td>\n",
       "    </tr>\n",
       "    <tr>\n",
       "      <th>18</th>\n",
       "      <td>18</td>\n",
       "      <td>Denying feud over Russia hacking, Trump vows s...</td>\n",
       "      <td>LANGLEY, Va./WASHINGTON (Reuters) - U.S. Presi...</td>\n",
       "      <td>January 21, 2017</td>\n",
       "      <td>0</td>\n",
       "    </tr>\n",
       "    <tr>\n",
       "      <th>19</th>\n",
       "      <td>19</td>\n",
       "      <td>BREAKING: BLM RIOTERS Have Surrounded St. Loui...</td>\n",
       "      <td>Is karma knocking on her door?Mayor Lyda Krews...</td>\n",
       "      <td>Sep 15, 2017</td>\n",
       "      <td>1</td>\n",
       "    </tr>\n",
       "  </tbody>\n",
       "</table>\n",
       "</div>"
      ],
      "text/plain": [
       "    Unnamed: 0                                              title  \\\n",
       "0            0               Earthquake hits off Papua New Guinea   \n",
       "1            1  CINDY MCCAIN Reportedly Accepts Trump Administ...   \n",
       "2            2  Prosecutors say ex-House Speaker Hastert sexua...   \n",
       "3            3  Romanian protesters halt building of Xmas fair...   \n",
       "4            4  Congo elected to U.N. rights council; Britain,...   \n",
       "5            5   ‘Alt-Right’ White House Reporter Gets Fooled ...   \n",
       "6            6  IRONY: Only Political Party With Black Preside...   \n",
       "7            7   Trump Supporter Laura Ingraham FAILS With Fak...   \n",
       "8            8  LT COL TONY SHAFFER: Muslim DNC IT Staffers Se...   \n",
       "9            9  Rajoy: Spain will not be divided, national uni...   \n",
       "10          10  Court appeal argues California emissions tradi...   \n",
       "11          11  Spanish lender Sabadell to transfer legal base...   \n",
       "12          12  Obama Joins Comedy Central Host to Push ‘Laugh...   \n",
       "13          13  Syria Strikes: This is NOT The Donald Trump We...   \n",
       "14          14   Republican Stuns In Brutally Honest Reaction ...   \n",
       "15          15  BOLD! HOLLYWOOD ACTOR Speaks Up For Trump…Tell...   \n",
       "16          16  Japan's Abe vows to put education spending bef...   \n",
       "17          17  “FRIGHTENING TREND”: Helmet-Cam Video Released...   \n",
       "18          18  Denying feud over Russia hacking, Trump vows s...   \n",
       "19          19  BREAKING: BLM RIOTERS Have Surrounded St. Loui...   \n",
       "\n",
       "                                                 text                 date  \\\n",
       "0   LONDON (Reuters) - A magnitude 5.9 earthquake ...  September 17, 2017    \n",
       "1   The Hill released controversial comments sore ...         Jun 12, 2017   \n",
       "2   (Reuters) - Former U.S. House Speaker Dennis H...       April 9, 2016    \n",
       "3   BUCHAREST (Reuters) - Romanian protesters clas...    December 2, 2017    \n",
       "4   UNITED NATIONS (Reuters) - Democratic Republic...    October 16, 2017    \n",
       "5   When Donald Trump allowed popular Nazi blog Th...     November 2, 2017   \n",
       "6   Who knew the radical leftist #BlackLivesMatter...         Jul 28, 2015   \n",
       "7   You know how conservatives are constantly scre...      August 24, 2017   \n",
       "8   Lt. Col. Tony Shaffer opened a can of worms to...         Jul 28, 2017   \n",
       "9   BERLIN (Reuters) - Spanish Prime Minister Mari...     October 9, 2017    \n",
       "10  SAN FRANCISCO (Reuters) - Parties in a four-ye...    January 24, 2017    \n",
       "11  MADRID (Reuters) - Spanish lender Sabadell dec...     October 5, 2017    \n",
       "12  21st Century Wire says President Obama is once...    December 15, 2016   \n",
       "13  21st Century Wire says Not at all.Yesterday s ...        April 7, 2017   \n",
       "14  With the unveiling of the Senate Republicans  ...        June 24, 2017   \n",
       "15                                                             Feb 2, 2017   \n",
       "16  TOKYO (Reuters) - Japan s prime minister has v...    October 23, 2017    \n",
       "17  The thrill seekers on motorcycles are putting ...         Apr 24, 2016   \n",
       "18  LANGLEY, Va./WASHINGTON (Reuters) - U.S. Presi...    January 21, 2017    \n",
       "19  Is karma knocking on her door?Mayor Lyda Krews...         Sep 15, 2017   \n",
       "\n",
       "    is_fake  \n",
       "0         0  \n",
       "1         1  \n",
       "2         0  \n",
       "3         0  \n",
       "4         0  \n",
       "5         1  \n",
       "6         1  \n",
       "7         1  \n",
       "8         1  \n",
       "9         0  \n",
       "10        0  \n",
       "11        0  \n",
       "12        1  \n",
       "13        1  \n",
       "14        1  \n",
       "15        1  \n",
       "16        0  \n",
       "17        1  \n",
       "18        0  \n",
       "19        1  "
      ]
     },
     "execution_count": 3,
     "metadata": {},
     "output_type": "execute_result"
    }
   ],
   "source": [
    "df.head(20)"
   ]
  },
  {
   "cell_type": "code",
   "execution_count": 4,
   "metadata": {
    "colab": {
     "base_uri": "https://localhost:8080/",
     "height": 241
    },
    "id": "73Ow0ac2h7SN",
    "outputId": "0ad11bad-f756-4646-e36a-dfda5d7ccb6a"
   },
   "outputs": [
    {
     "data": {
      "text/plain": [
       "Unnamed: 0    0\n",
       "title         0\n",
       "text          0\n",
       "date          0\n",
       "is_fake       0\n",
       "dtype: int64"
      ]
     },
     "execution_count": 4,
     "metadata": {},
     "output_type": "execute_result"
    }
   ],
   "source": [
    "df.isna().sum()"
   ]
  },
  {
   "cell_type": "code",
   "execution_count": 5,
   "metadata": {
    "colab": {
     "base_uri": "https://localhost:8080/"
    },
    "id": "bwr558S-q0W5",
    "outputId": "c92a5285-7f57-4502-9739-15eb892ec158"
   },
   "outputs": [
    {
     "name": "stdout",
     "output_type": "stream",
     "text": [
      "Кількість рядків із невдалою датою: 1\n",
      "        date  date_missing  month  weekday  is_weekend  title_len  text_len  \\\n",
      "0 2017-09-17             0      9        6           1          6        55   \n",
      "1 2017-06-12             0      6        0           0         19       288   \n",
      "2 2016-04-09             0      4        5           1          8       329   \n",
      "3 2017-12-02             0     12        5           1         10       328   \n",
      "4 2017-10-16             0     10        0           0          9       399   \n",
      "\n",
      "   title_char_len  text_char_len  \n",
      "0              36            305  \n",
      "1             149           1859  \n",
      "2              61           1995  \n",
      "3              62           2082  \n",
      "4              59           2513  \n"
     ]
    }
   ],
   "source": [
    "# Видаляємо дубльовану колонку-індекс\n",
    "if 'Unnamed: 0' in df.columns:\n",
    "    df = df.drop(columns=['Unnamed: 0'])\n",
    "\n",
    "# Парсимо дату через dateutil.parser\n",
    "def try_parse(s):\n",
    "    try:\n",
    "        return parser.parse(s)\n",
    "    except:\n",
    "        return pd.NaT\n",
    "\n",
    "df['date'] = df_raw['date'].apply(try_parse)\n",
    "\n",
    "# Прапорець відсутності дати\n",
    "df['date_missing'] = df['date'].isna().astype(int)\n",
    "\n",
    "# Генеруємо ознаки з дати, заповнюючи NaT нулями\n",
    "df['month']      = df['date'].dt.month.fillna(0).astype(int)\n",
    "df['weekday']    = df['date'].dt.weekday.fillna(0).astype(int) # 0=Monday … 6=Sunday\n",
    "df['year']       = df['date'].dt.year.fillna(0).astype(int)\n",
    "df['is_weekend'] = df['weekday'].isin([5,6]).astype(int)\n",
    "\n",
    "# Додаємо довжину заголовка\n",
    "df['title_len'] = df['title'].str.split().apply(len)\n",
    "# Додаємо довжину тексту (кількість слів)\n",
    "df['text_len'] = df['text'].str.split().apply(len)\n",
    "# Додаємо довжину заголовку та тексту в символах\n",
    "df['title_char_len']    = df['title'].str.len()\n",
    "df['text_char_len'] = df['text'].str.len()\n",
    "\n",
    "# Перевірка\n",
    "print(\"Кількість рядків із невдалою датою:\", df['date_missing'].sum())\n",
    "print(df[['date', 'date_missing','month','weekday','is_weekend','title_len', 'text_len', 'title_char_len', 'text_char_len']].head())"
   ]
  },
  {
   "cell_type": "code",
   "execution_count": 6,
   "metadata": {
    "colab": {
     "base_uri": "https://localhost:8080/",
     "height": 98
    },
    "id": "KhZwXqPfkG86",
    "outputId": "4a0eb355-28e3-4508-dbb6-9bfe893a4dbd"
   },
   "outputs": [
    {
     "data": {
      "text/plain": [
       "0    0\n",
       "1    0\n",
       "2    0\n",
       "3    0\n",
       "4    0\n",
       "Name: date_missing, dtype: int64"
      ]
     },
     "execution_count": 6,
     "metadata": {},
     "output_type": "execute_result"
    }
   ],
   "source": [
    "df['date_missing'].head()"
   ]
  },
  {
   "cell_type": "markdown",
   "metadata": {
    "id": "ggNHmY3GktoN"
   },
   "source": [
    "Видалимо цей рядок, щоб не заважав."
   ]
  },
  {
   "cell_type": "code",
   "execution_count": 7,
   "metadata": {
    "id": "-ocqG3e3k2aX"
   },
   "outputs": [],
   "source": [
    "# Видаляємо рядок з невдалою датою\n",
    "df = df[df['date_missing'] == 0].reset_index(drop=True)"
   ]
  },
  {
   "cell_type": "markdown",
   "metadata": {
    "id": "K1xXXJrtYAJd"
   },
   "source": [
    "**2.2. Огляд розмірності, типів, порожніх значень**"
   ]
  },
  {
   "cell_type": "code",
   "execution_count": 8,
   "metadata": {
    "colab": {
     "base_uri": "https://localhost:8080/",
     "height": 379
    },
    "id": "CDUz-pVSYX0d",
    "outputId": "a69c1393-f981-4c9a-8854-7594781ffeb5"
   },
   "outputs": [
    {
     "data": {
      "text/html": [
       "<div>\n",
       "<style scoped>\n",
       "    .dataframe tbody tr th:only-of-type {\n",
       "        vertical-align: middle;\n",
       "    }\n",
       "\n",
       "    .dataframe tbody tr th {\n",
       "        vertical-align: top;\n",
       "    }\n",
       "\n",
       "    .dataframe thead th {\n",
       "        text-align: right;\n",
       "    }\n",
       "</style>\n",
       "<table border=\"1\" class=\"dataframe\">\n",
       "  <thead>\n",
       "    <tr style=\"text-align: right;\">\n",
       "      <th></th>\n",
       "      <th>title</th>\n",
       "      <th>text</th>\n",
       "      <th>date</th>\n",
       "      <th>is_fake</th>\n",
       "      <th>date_missing</th>\n",
       "      <th>month</th>\n",
       "      <th>weekday</th>\n",
       "      <th>year</th>\n",
       "      <th>is_weekend</th>\n",
       "      <th>title_len</th>\n",
       "      <th>text_len</th>\n",
       "      <th>title_char_len</th>\n",
       "      <th>text_char_len</th>\n",
       "    </tr>\n",
       "  </thead>\n",
       "  <tbody>\n",
       "    <tr>\n",
       "      <th>0</th>\n",
       "      <td>Earthquake hits off Papua New Guinea</td>\n",
       "      <td>LONDON (Reuters) - A magnitude 5.9 earthquake ...</td>\n",
       "      <td>2017-09-17</td>\n",
       "      <td>0</td>\n",
       "      <td>0</td>\n",
       "      <td>9</td>\n",
       "      <td>6</td>\n",
       "      <td>2017</td>\n",
       "      <td>1</td>\n",
       "      <td>6</td>\n",
       "      <td>55</td>\n",
       "      <td>36</td>\n",
       "      <td>305</td>\n",
       "    </tr>\n",
       "    <tr>\n",
       "      <th>1</th>\n",
       "      <td>CINDY MCCAIN Reportedly Accepts Trump Administ...</td>\n",
       "      <td>The Hill released controversial comments sore ...</td>\n",
       "      <td>2017-06-12</td>\n",
       "      <td>1</td>\n",
       "      <td>0</td>\n",
       "      <td>6</td>\n",
       "      <td>0</td>\n",
       "      <td>2017</td>\n",
       "      <td>0</td>\n",
       "      <td>19</td>\n",
       "      <td>288</td>\n",
       "      <td>149</td>\n",
       "      <td>1859</td>\n",
       "    </tr>\n",
       "    <tr>\n",
       "      <th>2</th>\n",
       "      <td>Prosecutors say ex-House Speaker Hastert sexua...</td>\n",
       "      <td>(Reuters) - Former U.S. House Speaker Dennis H...</td>\n",
       "      <td>2016-04-09</td>\n",
       "      <td>0</td>\n",
       "      <td>0</td>\n",
       "      <td>4</td>\n",
       "      <td>5</td>\n",
       "      <td>2016</td>\n",
       "      <td>1</td>\n",
       "      <td>8</td>\n",
       "      <td>329</td>\n",
       "      <td>61</td>\n",
       "      <td>1995</td>\n",
       "    </tr>\n",
       "    <tr>\n",
       "      <th>3</th>\n",
       "      <td>Romanian protesters halt building of Xmas fair...</td>\n",
       "      <td>BUCHAREST (Reuters) - Romanian protesters clas...</td>\n",
       "      <td>2017-12-02</td>\n",
       "      <td>0</td>\n",
       "      <td>0</td>\n",
       "      <td>12</td>\n",
       "      <td>5</td>\n",
       "      <td>2017</td>\n",
       "      <td>1</td>\n",
       "      <td>10</td>\n",
       "      <td>328</td>\n",
       "      <td>62</td>\n",
       "      <td>2082</td>\n",
       "    </tr>\n",
       "    <tr>\n",
       "      <th>4</th>\n",
       "      <td>Congo elected to U.N. rights council; Britain,...</td>\n",
       "      <td>UNITED NATIONS (Reuters) - Democratic Republic...</td>\n",
       "      <td>2017-10-16</td>\n",
       "      <td>0</td>\n",
       "      <td>0</td>\n",
       "      <td>10</td>\n",
       "      <td>0</td>\n",
       "      <td>2017</td>\n",
       "      <td>0</td>\n",
       "      <td>9</td>\n",
       "      <td>399</td>\n",
       "      <td>59</td>\n",
       "      <td>2513</td>\n",
       "    </tr>\n",
       "  </tbody>\n",
       "</table>\n",
       "</div>"
      ],
      "text/plain": [
       "                                               title  \\\n",
       "0               Earthquake hits off Papua New Guinea   \n",
       "1  CINDY MCCAIN Reportedly Accepts Trump Administ...   \n",
       "2  Prosecutors say ex-House Speaker Hastert sexua...   \n",
       "3  Romanian protesters halt building of Xmas fair...   \n",
       "4  Congo elected to U.N. rights council; Britain,...   \n",
       "\n",
       "                                                text       date  is_fake  \\\n",
       "0  LONDON (Reuters) - A magnitude 5.9 earthquake ... 2017-09-17        0   \n",
       "1  The Hill released controversial comments sore ... 2017-06-12        1   \n",
       "2  (Reuters) - Former U.S. House Speaker Dennis H... 2016-04-09        0   \n",
       "3  BUCHAREST (Reuters) - Romanian protesters clas... 2017-12-02        0   \n",
       "4  UNITED NATIONS (Reuters) - Democratic Republic... 2017-10-16        0   \n",
       "\n",
       "   date_missing  month  weekday  year  is_weekend  title_len  text_len  \\\n",
       "0             0      9        6  2017           1          6        55   \n",
       "1             0      6        0  2017           0         19       288   \n",
       "2             0      4        5  2016           1          8       329   \n",
       "3             0     12        5  2017           1         10       328   \n",
       "4             0     10        0  2017           0          9       399   \n",
       "\n",
       "   title_char_len  text_char_len  \n",
       "0              36            305  \n",
       "1             149           1859  \n",
       "2              61           1995  \n",
       "3              62           2082  \n",
       "4              59           2513  "
      ]
     },
     "execution_count": 8,
     "metadata": {},
     "output_type": "execute_result"
    }
   ],
   "source": [
    "df.head()"
   ]
  },
  {
   "cell_type": "code",
   "execution_count": 9,
   "metadata": {
    "colab": {
     "base_uri": "https://localhost:8080/"
    },
    "id": "665kliGJaKLh",
    "outputId": "813baeff-9efe-4008-c4ab-00a8364839b4"
   },
   "outputs": [
    {
     "data": {
      "text/plain": [
       "(44679, 13)"
      ]
     },
     "execution_count": 9,
     "metadata": {},
     "output_type": "execute_result"
    }
   ],
   "source": [
    "df.shape"
   ]
  },
  {
   "cell_type": "code",
   "execution_count": 10,
   "metadata": {
    "colab": {
     "base_uri": "https://localhost:8080/",
     "height": 838
    },
    "id": "-fdu6fgOYC8_",
    "outputId": "d273b2a2-e406-4198-e528-ea2da20bb8bb"
   },
   "outputs": [
    {
     "name": "stdout",
     "output_type": "stream",
     "text": [
      "<class 'pandas.core.frame.DataFrame'>\n",
      "RangeIndex: 44679 entries, 0 to 44678\n",
      "Data columns (total 13 columns):\n",
      " #   Column          Non-Null Count  Dtype         \n",
      "---  ------          --------------  -----         \n",
      " 0   title           44679 non-null  object        \n",
      " 1   text            44679 non-null  object        \n",
      " 2   date            44679 non-null  datetime64[ns]\n",
      " 3   is_fake         44679 non-null  int64         \n",
      " 4   date_missing    44679 non-null  int64         \n",
      " 5   month           44679 non-null  int64         \n",
      " 6   weekday         44679 non-null  int64         \n",
      " 7   year            44679 non-null  int64         \n",
      " 8   is_weekend      44679 non-null  int64         \n",
      " 9   title_len       44679 non-null  int64         \n",
      " 10  text_len        44679 non-null  int64         \n",
      " 11  title_char_len  44679 non-null  int64         \n",
      " 12  text_char_len   44679 non-null  int64         \n",
      "dtypes: datetime64[ns](1), int64(10), object(2)\n",
      "memory usage: 4.4+ MB\n"
     ]
    },
    {
     "data": {
      "text/plain": [
       "title             0\n",
       "text              0\n",
       "date              0\n",
       "is_fake           0\n",
       "date_missing      0\n",
       "month             0\n",
       "weekday           0\n",
       "year              0\n",
       "is_weekend        0\n",
       "title_len         0\n",
       "text_len          0\n",
       "title_char_len    0\n",
       "text_char_len     0\n",
       "dtype: int64"
      ]
     },
     "execution_count": 10,
     "metadata": {},
     "output_type": "execute_result"
    }
   ],
   "source": [
    "df.info()\n",
    "df.isna().sum()"
   ]
  },
  {
   "cell_type": "markdown",
   "metadata": {
    "id": "VRuj3gMDYJ3m"
   },
   "source": [
    "**2.3. Базова статистика текстів**"
   ]
  },
  {
   "cell_type": "markdown",
   "metadata": {},
   "source": [
    "Ми візуалізуємо та дослідимо основні властивості даних:\n",
    "1. Баланс класів `is_fake`.\n",
    "2. Розподіл довжини тексту та заголовків за класами.\n",
    "3. Кількість статей за місяцями та днями тижня у розрізі класів."
   ]
  },
  {
   "cell_type": "code",
   "execution_count": 11,
   "metadata": {
    "colab": {
     "base_uri": "https://localhost:8080/",
     "height": 178
    },
    "id": "UnLCW9J-ZCsl",
    "outputId": "951a74ad-c8d4-42c5-ee28-7de66865a054"
   },
   "outputs": [
    {
     "data": {
      "text/plain": [
       "is_fake\n",
       "1    0.525258\n",
       "0    0.474742\n",
       "Name: proportion, dtype: float64"
      ]
     },
     "execution_count": 11,
     "metadata": {},
     "output_type": "execute_result"
    }
   ],
   "source": [
    "df['is_fake'].value_counts(normalize=True)"
   ]
  },
  {
   "cell_type": "markdown",
   "metadata": {
    "id": "JtzKpyhUY95r"
   },
   "source": [
    "**2.4. Баланс класів**"
   ]
  },
  {
   "cell_type": "code",
   "execution_count": 12,
   "metadata": {},
   "outputs": [
    {
     "data": {
      "image/png": "[encoded data removed]",
      "text/plain": [
       "<Figure size 600x400 with 1 Axes>"
      ]
     },
     "metadata": {},
     "output_type": "display_data"
    },
    {
     "data": {
      "image/png": "[encoded data removed]",
      "text/plain": [
       "<Figure size 1200x400 with 2 Axes>"
      ]
     },
     "metadata": {},
     "output_type": "display_data"
    },
    {
     "data": {
      "image/png": "[encoded data removed]",
      "text/plain": [
       "<Figure size 1000x400 with 1 Axes>"
      ]
     },
     "metadata": {},
     "output_type": "display_data"
    },
    {
     "data": {
      "image/png": "[encoded data removed]",
      "text/plain": [
       "<Figure size 1000x400 with 1 Axes>"
      ]
     },
     "metadata": {},
     "output_type": "display_data"
    }
   ],
   "source": [
    "# Розподіл класів\n",
    "plt.figure(figsize=(6,4))\n",
    "sns.countplot(x=df['is_fake'])\n",
    "plt.title('Баланс класів (0=реальні, 1=фейкові)')\n",
    "plt.show()\n",
    "\n",
    "# Гістограма довжини тексту й заголовків\n",
    "fig, axes = plt.subplots(1, 2, figsize=(12,4))\n",
    "sns.histplot(data=df, x='text_len', hue='is_fake', ax=axes[0], element='step')\n",
    "axes[0].set_title('Text Length by Class')\n",
    "sns.histplot(data=df, x='title_len', hue='is_fake', ax=axes[1], element='step')\n",
    "axes[1].set_title('Title Length by Class')\n",
    "plt.tight_layout()\n",
    "plt.show()\n",
    "\n",
    "# Кількість статей за місяцями\n",
    "plt.figure(figsize=(10,4))\n",
    "sns.countplot(x=df['month'], hue=df['is_fake'])\n",
    "plt.title('Articles per Month by Class')\n",
    "plt.show()\n",
    "\n",
    "# Кількість статей за днями тижня\n",
    "plt.figure(figsize=(10,4))\n",
    "sns.countplot(x=df['weekday'], hue=df['is_fake'])\n",
    "plt.title('Articles per Weekday by Class')\n",
    "plt.show()"
   ]
  },
  {
   "cell_type": "markdown",
   "metadata": {
    "id": "TctVKrZinPfn"
   },
   "source": [
    "### 3. Передобробка тексту"
   ]
  },
  {
   "cell_type": "markdown",
   "metadata": {
    "id": "Z8n9Vp3bnUSp"
   },
   "source": [
    "Токенізація + приведення до нижнього регістру + видалення пунктуації\n",
    "\n",
    "Видалення стоп-слів (nltk.corpus.stopwords)\n",
    "\n",
    "Лемматизація (nltk.WordNetLemmatizer)"
   ]
  },
  {
   "cell_type": "code",
   "execution_count": 13,
   "metadata": {
    "id": "VFrUdbuYnVe7"
   },
   "outputs": [],
   "source": [
    "stop = set(stopwords.words('english'))\n",
    "lemmatizer = WordNetLemmatizer()\n",
    "\n",
    "def clean_text(txt):\n",
    "    txt = txt.lower()\n",
    "    txt = re.sub(r'[^a-z\\s]', '', txt)\n",
    "    tokens = [lemmatizer.lemmatize(w) for w in txt.split() if w not in stop]\n",
    "    return ' '.join(tokens)\n",
    "\n",
    "df['clean_text'] = df['text'].apply(clean_text)"
   ]
  },
  {
   "cell_type": "code",
   "execution_count": 14,
   "metadata": {},
   "outputs": [
    {
     "name": "stdout",
     "output_type": "stream",
     "text": [
      "Original: LONDON (Reuters) - A magnitude 5.9 earthquake hit off the coast of Papua New Gui...\n",
      "Cleaned : london reuters magnitude earthquake hit coast papua new guinea early hour monday...\n",
      "\n",
      "Original: The Hill released controversial comments sore loser and RINO Senator John McCain...\n",
      "Cleaned : hill released controversial comment sore loser rino senator john mccain made tru...\n",
      "\n"
     ]
    }
   ],
   "source": [
    "# Демонстрація на прикладах\n",
    "examples = [\n",
    "    df.loc[0, 'text'],\n",
    "    df.loc[1, 'text']\n",
    "]\n",
    "for ex in examples:\n",
    "    cl = clean_text(ex)\n",
    "    print(f\"Original: {ex[:80]}...\")\n",
    "    print(f\"Cleaned : {cl[:80]}...\\n\")"
   ]
  },
  {
   "cell_type": "markdown",
   "metadata": {
    "id": "uXUMUyhPq5Gi"
   },
   "source": [
    "### 4. Розділення на train/validation/test"
   ]
  },
  {
   "cell_type": "markdown",
   "metadata": {},
   "source": [
    "У цій секції ми розділимо дані так, щоб:\n",
    "1. **Train** — 70 % усіх прикладів.\n",
    "2. **Validation** — 15 % (для підбору моделей та моніторингу протягом тренування BERT).\n",
    "3. **Test** — 15 % (для остаточної оцінки усіх моделей).\n",
    "\n",
    "Використовуємо стратифікацію за мітками `is_fake`, щоб зберегти баланс класів."
   ]
  },
  {
   "cell_type": "code",
   "execution_count": 15,
   "metadata": {
    "id": "Ca9w1jm9nkJ6"
   },
   "outputs": [],
   "source": [
    "X_train, X_temp, y_train, y_temp = train_test_split(\n",
    "    df['clean_text'], df['is_fake'],\n",
    "    stratify=df['is_fake'], test_size=0.3, random_state=42\n",
    ")\n",
    "X_val, X_test, y_val, y_test = train_test_split(\n",
    "    X_temp, y_temp,\n",
    "    stratify=y_temp, test_size=0.5, random_state=42\n",
    ")"
   ]
  },
  {
   "cell_type": "markdown",
   "metadata": {},
   "source": [
    "1. Ініціалізуємо `CountVectorizer` (уніграми + біграми, обрізаємо рідкісні й надто часті токени).  \n",
    "2. Ініціалізуємо `LogisticRegression`.  \n",
    "3. Навчаємо модель на `X_train / y_train`.  \n",
    "4. Оцінюємо на `X_val / y_val`.  "
   ]
  },
  {
   "cell_type": "code",
   "execution_count": 16,
   "metadata": {},
   "outputs": [
    {
     "name": "stdout",
     "output_type": "stream",
     "text": [
      "Classification Report:\n",
      "               precision    recall  f1-score   support\n",
      "\n",
      "           0     0.9956    0.9969    0.9962      3181\n",
      "           1     0.9972    0.9960    0.9966      3521\n",
      "\n",
      "    accuracy                         0.9964      6702\n",
      "   macro avg     0.9964    0.9964    0.9964      6702\n",
      "weighted avg     0.9964    0.9964    0.9964      6702\n",
      "\n",
      "F1-score: 0.9965899403239556\n",
      "Accuracy: 0.9964189794091316\n"
     ]
    }
   ],
   "source": [
    "# Ініціалізація бейзлайн-моделі\n",
    "cv = CountVectorizer(\n",
    "    max_features=5000,\n",
    "    ngram_range=(1,2),\n",
    "    min_df=2,\n",
    "    max_df=0.8\n",
    ")\n",
    "lr = LogisticRegression(\n",
    "    C=1.0,\n",
    "    max_iter=1000,\n",
    "    random_state=42\n",
    ")\n",
    "\n",
    "# Тренування та оцінка\n",
    "X_cv_tr = cv.fit_transform(X_train)\n",
    "X_cv_va = cv.transform(X_val)\n",
    "lr.fit(X_cv_tr, y_train)\n",
    "y_pred_lr = lr.predict(X_cv_va)\n",
    "\n",
    "print(\"Classification Report:\\n\",\n",
    "      classification_report(y_val, y_pred_lr, digits=4))\n",
    "print(\"F1-score:\", f1_score(y_val, y_pred_lr))\n",
    "print(\"Accuracy:\", accuracy_score(y_val, y_pred_lr))"
   ]
  },
  {
   "cell_type": "markdown",
   "metadata": {},
   "source": [
    "##### Наш базовий підхід одразу дає дуже високі метрики:\n",
    "\n",
    "F1 = 0.9966\n",
    "\n",
    "Accuracy = 0.9964\n",
    "\n",
    "Такі результати говорять про кілька можливих моментів:\n",
    "\n",
    "**Надзвичайно виразні ознаки**\n",
    "- уже при простому підході TF-IDF (чи тут - CountVectorizer) слова й двограмні комбінації достатньо розділяють правдиві й фейкові новини.\n",
    "\n",
    "**Можливе «утікання» інформації**\n",
    "- треба перевірити, чи в текстах нема специфічних шаблонів (наприклад, «(Reuters)» у реальних новинах), які модель легко вчить «на пам’ять».\n",
    "\n",
    "**Малий простір для покращень**\n",
    "- оскільки F1 вже ≈ 0.997, навіть складніші моделі (RandomForest, XGBoost, BERT) дадуть незначний приріст, зате будуть суттєво важчі в розгортанні.\n",
    "Тому ми просто глянемо на виконання."
   ]
  },
  {
   "cell_type": "code",
   "execution_count": 17,
   "metadata": {},
   "outputs": [
    {
     "name": "stdout",
     "output_type": "stream",
     "text": [
      "\n",
      "Top 20 unigrams for class 0:\n",
      "['said' 'trump' 'u' 'state' 'would' 'reuters' 'president' 'republican'\n",
      " 'government' 'year' 'house' 'new' 'also' 'united' 'people' 'party'\n",
      " 'official' 'told' 'country' 'election']\n",
      "\n",
      "Top 20 bigrams for class 1:\n",
      "['donald trump' 'hillary clinton' 'white house' 'image via' 'united state'\n",
      " 'new york' 'president obama' 'president trump' 'fox news' 'st century'\n",
      " 'barack obama' 'donald j' 'j trump' 'century wire' 'trump supporter'\n",
      " 'fake news' 'supreme court' 'trump campaign' 'trump realdonaldtrump'\n",
      " 'obama administration']\n"
     ]
    }
   ],
   "source": [
    "# Уніграми\n",
    "cv1 = CountVectorizer(token_pattern=r'[a-zA-Z]+')\n",
    "X1  = cv1.fit_transform(df['clean_text'])\n",
    "tokens = np.array(cv1.get_feature_names_out())\n",
    "\n",
    "# Біграми\n",
    "cv2 = CountVectorizer(ngram_range=(2,2), token_pattern=r'[a-zA-Z]+')\n",
    "X2  = cv2.fit_transform(df['clean_text'])\n",
    "bigrams = np.array(cv2.get_feature_names_out())\n",
    "\n",
    "for cls, X in zip([0,1], [X1, X2]):\n",
    "    mask = df['is_fake'] == cls\n",
    "    sums = X[mask].sum(axis=0).A1\n",
    "    top20 = np.argsort(sums)[-20:][::-1]\n",
    "    name = \"unigrams\" if X is X1 else \"bigrams\"\n",
    "    print(f\"\\nTop 20 {name} for class {cls}:\")\n",
    "    print((tokens if X is X1 else bigrams)[top20])"
   ]
  },
  {
   "cell_type": "markdown",
   "metadata": {},
   "source": [
    "Top 20 unigrams for class 0:\n",
    "['said' 'trump' 'u' 'state' 'would' 'reuters' 'president' 'republican'\n",
    " 'government' 'year' 'house' 'new' 'also' 'united' 'people' 'party'\n",
    " 'official' 'told' 'country' 'election']\n",
    "\n",
    "Top 20 bigrams for class 1:\n",
    "['donald trump' 'hillary clinton' 'white house' 'image via' 'united state'\n",
    " 'new york' 'president obama' 'president trump' 'fox news' 'st century'\n",
    " 'barack obama' 'donald j' 'j trump' 'century wire' 'trump supporter'\n",
    " 'fake news' 'supreme court' 'trump campaign' 'trump realdonaldtrump'\n",
    " 'obama administration']\n",
    "\n",
    "**Ці результати показують, що модель справді опирається на «шпаргалки»:**\n",
    "\n",
    "Class 0 (реальні): у топ-20 уніграмах бачимо reuters поряд із нейтральними словами (said, state, year тощо).\n",
    "\n",
    "Class 1 (фейкові): серед найчастіших біграм — імена політиків (donald trump, hillary clinton, barack obama), назви медіа (fox news), навіть fake news.\n",
    "\n",
    "Таке сильне домінування конкретних імен та термінів значить, що модель може просто шукати “trump” чи “reuters” замість аналізу змісту тексту загалом. "
   ]
  },
  {
   "cell_type": "markdown",
   "metadata": {},
   "source": [
    "**Спробуємо видалити або замаскувати шпаргалки у іншому файлі і подивитись на результати, а в цьому попрацюємо з наявними даними:**"
   ]
  },
  {
   "cell_type": "code",
   "execution_count": 18,
   "metadata": {
    "colab": {
     "base_uri": "https://localhost:8080/"
    },
    "id": "on-io2I2m_zW",
    "outputId": "bfecff8b-ffd2-4759-e591-6eea9482490b"
   },
   "outputs": [
    {
     "name": "stdout",
     "output_type": "stream",
     "text": [
      "Fitting 5 folds for each of 48 candidates, totalling 240 fits\n",
      "Best params: {'lr__C': 10.0, 'tfidf__max_df': 0.8, 'tfidf__max_features': 5000, 'tfidf__min_df': 2, 'tfidf__ngram_range': (1, 2)}\n",
      "Best CV F1: 0.9933604438722364\n"
     ]
    }
   ],
   "source": [
    "# Пайплайн з TF-IDF + LR\n",
    "pipeline = Pipeline([\n",
    "    ('tfidf', TfidfVectorizer()),\n",
    "    ('lr',    LogisticRegression(max_iter=1000, random_state=42))\n",
    "])\n",
    "\n",
    "# Сітка гіперпараметрів для TF-IDF і LR\n",
    "param_grid = {\n",
    "    'tfidf__max_features': [5000, 10000],\n",
    "    'tfidf__ngram_range': [(1,1), (1,2)],\n",
    "    'tfidf__min_df': [2, 5],\n",
    "    'tfidf__max_df': [0.8, 1.0],\n",
    "    'lr__C': [0.1, 1.0, 10.0]\n",
    "}\n",
    "\n",
    "# 5-fold StratifiedKFold\n",
    "cv = StratifiedKFold(n_splits=5, shuffle=True, random_state=42)\n",
    "\n",
    "# GridSearchCV\n",
    "gs = GridSearchCV(\n",
    "    estimator=pipeline,\n",
    "    param_grid=param_grid,\n",
    "    scoring='f1',\n",
    "    cv=cv,\n",
    "    verbose=2,\n",
    "    n_jobs=-1\n",
    ")\n",
    "\n",
    "# Запуск пошуку\n",
    "gs.fit(X_train, y_train)\n",
    "\n",
    "# Вивід найкращого\n",
    "print(\"Best params:\", gs.best_params_)\n",
    "print(\"Best CV F1:\", gs.best_score_)"
   ]
  },
  {
   "cell_type": "markdown",
   "metadata": {
    "id": "VFCZFETP32SF"
   },
   "source": [
    "Результати:\n",
    "Fitting 5 folds for each of 48 candidates, totalling 240 fits\n",
    "Best params: {'lr__C': 10.0, 'tfidf__max_df': 0.8, 'tfidf__max_features': 10000, 'tfidf__min_df': 5, 'tfidf__ngram_range': (1, 2)}\n",
    "Best CV F1: 0.9932400498904224"
   ]
  },
  {
   "cell_type": "code",
   "execution_count": 20,
   "metadata": {},
   "outputs": [
    {
     "name": "stderr",
     "output_type": "stream",
     "text": [
      "Some weights of BertForSequenceClassification were not initialized from the model checkpoint at bert-base-uncased and are newly initialized: ['classifier.bias', 'classifier.weight']\n",
      "You should probably TRAIN this model on a down-stream task to be able to use it for predictions and inference.\n"
     ]
    }
   ],
   "source": [
    "# ── ПІДГОТОВКА BERT FINE-TUNING ───────────────────────────────────────────────\n",
    "\n",
    "from transformers import BertTokenizer, BertForSequenceClassification, DataCollatorWithPadding\n",
    "import torch\n",
    "\n",
    "# 1) Ініціалізація токенізатора та моделі\n",
    "tokenizer = BertTokenizer.from_pretrained('bert-base-uncased')\n",
    "model     = BertForSequenceClassification.from_pretrained(\n",
    "    'bert-base-uncased',\n",
    "    num_labels=2\n",
    ")\n",
    "\n",
    "# 2) Підготовка Dataset для Trainer\n",
    "class NewsDataset(torch.utils.data.Dataset):\n",
    "    def __init__(self, texts, labels):\n",
    "        self.enc    = tokenizer(texts, truncation=True, padding=False, max_length=256)\n",
    "        self.labels = labels\n",
    "\n",
    "    def __len__(self):\n",
    "        return len(self.labels)\n",
    "\n",
    "    def __getitem__(self, idx):\n",
    "        item = {k: torch.tensor(v[idx]) for k, v in self.enc.items()}\n",
    "        item['labels'] = torch.tensor(self.labels[idx])\n",
    "        return item\n",
    "\n",
    "train_ds = NewsDataset(X_train.tolist(), y_train.tolist())\n",
    "val_ds   = NewsDataset(X_val.tolist(),   y_val.tolist())\n",
    "\n",
    "# 3) DataCollator для динамічного padding\n",
    "data_collator = DataCollatorWithPadding(tokenizer)"
   ]
  },
  {
   "cell_type": "code",
   "execution_count": 23,
   "metadata": {
    "colab": {
     "base_uri": "https://localhost:8080/",
     "height": 1000
    },
    "id": "En5RUaxk4e_M",
    "outputId": "cf30710b-0b16-4b47-cb72-cfbc9d8db3c5"
   },
   "outputs": [
    {
     "data": {
      "text/html": [
       "\n",
       "    <div>\n",
       "      \n",
       "      <progress value='31' max='7820' style='width:300px; height:20px; vertical-align: middle;'></progress>\n",
       "      [  31/7820 06:01 < 26:58:46, 0.08 it/s, Epoch 0.01/2]\n",
       "    </div>\n",
       "    <table border=\"1\" class=\"dataframe\">\n",
       "  <thead>\n",
       " <tr style=\"text-align: left;\">\n",
       "      <th>Step</th>\n",
       "      <th>Training Loss</th>\n",
       "    </tr>\n",
       "  </thead>\n",
       "  <tbody>\n",
       "  </tbody>\n",
       "</table><p>\n",
       "    <div>\n",
       "      \n",
       "      <progress value='838' max='838' style='width:300px; height:20px; vertical-align: middle;'></progress>\n",
       "      [838/838 53:37]\n",
       "    </div>\n",
       "    "
      ],
      "text/plain": [
       "<IPython.core.display.HTML object>"
      ]
     },
     "metadata": {},
     "output_type": "display_data"
    },
    {
     "ename": "KeyboardInterrupt",
     "evalue": "",
     "output_type": "error",
     "traceback": [
      "\u001b[1;31m---------------------------------------------------------------------------\u001b[0m",
      "\u001b[1;31mKeyboardInterrupt\u001b[0m                         Traceback (most recent call last)",
      "Cell \u001b[1;32mIn[23], line 27\u001b[0m\n\u001b[0;32m      9\u001b[0m args \u001b[38;5;241m=\u001b[39m TrainingArguments(\n\u001b[0;32m     10\u001b[0m     output_dir\u001b[38;5;241m=\u001b[39m\u001b[38;5;124m'\u001b[39m\u001b[38;5;124m./bert_out\u001b[39m\u001b[38;5;124m'\u001b[39m,\n\u001b[0;32m     11\u001b[0m     num_train_epochs\u001b[38;5;241m=\u001b[39m\u001b[38;5;241m2\u001b[39m,\n\u001b[1;32m   (...)\u001b[0m\n\u001b[0;32m     16\u001b[0m     report_to\u001b[38;5;241m=\u001b[39m[\u001b[38;5;124m\"\u001b[39m\u001b[38;5;124mnone\u001b[39m\u001b[38;5;124m\"\u001b[39m]\n\u001b[0;32m     17\u001b[0m )\n\u001b[0;32m     19\u001b[0m trainer \u001b[38;5;241m=\u001b[39m Trainer(\n\u001b[0;32m     20\u001b[0m     model\u001b[38;5;241m=\u001b[39mmodel,\n\u001b[0;32m     21\u001b[0m     args\u001b[38;5;241m=\u001b[39margs,\n\u001b[1;32m   (...)\u001b[0m\n\u001b[0;32m     24\u001b[0m     compute_metrics\u001b[38;5;241m=\u001b[39mcompute_metrics\n\u001b[0;32m     25\u001b[0m )\n\u001b[1;32m---> 27\u001b[0m \u001b[43mtrainer\u001b[49m\u001b[38;5;241;43m.\u001b[39;49m\u001b[43mtrain\u001b[49m\u001b[43m(\u001b[49m\u001b[43m)\u001b[49m\n\u001b[0;32m     28\u001b[0m eval_results \u001b[38;5;241m=\u001b[39m trainer\u001b[38;5;241m.\u001b[39mevaluate(eval_dataset\u001b[38;5;241m=\u001b[39mval_ds)\n\u001b[0;32m     29\u001b[0m \u001b[38;5;28mprint\u001b[39m(\u001b[38;5;124m\"\u001b[39m\u001b[38;5;124mEval results:\u001b[39m\u001b[38;5;124m\"\u001b[39m, eval_results)\n",
      "File \u001b[1;32m~\\AppData\\Local\\Programs\\Python\\Python312\\Lib\\site-packages\\transformers\\trainer.py:2240\u001b[0m, in \u001b[0;36mTrainer.train\u001b[1;34m(self, resume_from_checkpoint, trial, ignore_keys_for_eval, **kwargs)\u001b[0m\n\u001b[0;32m   2238\u001b[0m         hf_hub_utils\u001b[38;5;241m.\u001b[39menable_progress_bars()\n\u001b[0;32m   2239\u001b[0m \u001b[38;5;28;01melse\u001b[39;00m:\n\u001b[1;32m-> 2240\u001b[0m     \u001b[38;5;28;01mreturn\u001b[39;00m \u001b[43minner_training_loop\u001b[49m\u001b[43m(\u001b[49m\n\u001b[0;32m   2241\u001b[0m \u001b[43m        \u001b[49m\u001b[43margs\u001b[49m\u001b[38;5;241;43m=\u001b[39;49m\u001b[43margs\u001b[49m\u001b[43m,\u001b[49m\n\u001b[0;32m   2242\u001b[0m \u001b[43m        \u001b[49m\u001b[43mresume_from_checkpoint\u001b[49m\u001b[38;5;241;43m=\u001b[39;49m\u001b[43mresume_from_checkpoint\u001b[49m\u001b[43m,\u001b[49m\n\u001b[0;32m   2243\u001b[0m \u001b[43m        \u001b[49m\u001b[43mtrial\u001b[49m\u001b[38;5;241;43m=\u001b[39;49m\u001b[43mtrial\u001b[49m\u001b[43m,\u001b[49m\n\u001b[0;32m   2244\u001b[0m \u001b[43m        \u001b[49m\u001b[43mignore_keys_for_eval\u001b[49m\u001b[38;5;241;43m=\u001b[39;49m\u001b[43mignore_keys_for_eval\u001b[49m\u001b[43m,\u001b[49m\n\u001b[0;32m   2245\u001b[0m \u001b[43m    \u001b[49m\u001b[43m)\u001b[49m\n",
      "File \u001b[1;32m~\\AppData\\Local\\Programs\\Python\\Python312\\Lib\\site-packages\\transformers\\trainer.py:2555\u001b[0m, in \u001b[0;36mTrainer._inner_training_loop\u001b[1;34m(self, batch_size, args, resume_from_checkpoint, trial, ignore_keys_for_eval)\u001b[0m\n\u001b[0;32m   2548\u001b[0m context \u001b[38;5;241m=\u001b[39m (\n\u001b[0;32m   2549\u001b[0m     functools\u001b[38;5;241m.\u001b[39mpartial(\u001b[38;5;28mself\u001b[39m\u001b[38;5;241m.\u001b[39maccelerator\u001b[38;5;241m.\u001b[39mno_sync, model\u001b[38;5;241m=\u001b[39mmodel)\n\u001b[0;32m   2550\u001b[0m     \u001b[38;5;28;01mif\u001b[39;00m i \u001b[38;5;241m!=\u001b[39m \u001b[38;5;28mlen\u001b[39m(batch_samples) \u001b[38;5;241m-\u001b[39m \u001b[38;5;241m1\u001b[39m\n\u001b[0;32m   2551\u001b[0m     \u001b[38;5;129;01mand\u001b[39;00m \u001b[38;5;28mself\u001b[39m\u001b[38;5;241m.\u001b[39maccelerator\u001b[38;5;241m.\u001b[39mdistributed_type \u001b[38;5;241m!=\u001b[39m DistributedType\u001b[38;5;241m.\u001b[39mDEEPSPEED\n\u001b[0;32m   2552\u001b[0m     \u001b[38;5;28;01melse\u001b[39;00m contextlib\u001b[38;5;241m.\u001b[39mnullcontext\n\u001b[0;32m   2553\u001b[0m )\n\u001b[0;32m   2554\u001b[0m \u001b[38;5;28;01mwith\u001b[39;00m context():\n\u001b[1;32m-> 2555\u001b[0m     tr_loss_step \u001b[38;5;241m=\u001b[39m \u001b[38;5;28;43mself\u001b[39;49m\u001b[38;5;241;43m.\u001b[39;49m\u001b[43mtraining_step\u001b[49m\u001b[43m(\u001b[49m\u001b[43mmodel\u001b[49m\u001b[43m,\u001b[49m\u001b[43m \u001b[49m\u001b[43minputs\u001b[49m\u001b[43m,\u001b[49m\u001b[43m \u001b[49m\u001b[43mnum_items_in_batch\u001b[49m\u001b[43m)\u001b[49m\n\u001b[0;32m   2557\u001b[0m \u001b[38;5;28;01mif\u001b[39;00m (\n\u001b[0;32m   2558\u001b[0m     args\u001b[38;5;241m.\u001b[39mlogging_nan_inf_filter\n\u001b[0;32m   2559\u001b[0m     \u001b[38;5;129;01mand\u001b[39;00m \u001b[38;5;129;01mnot\u001b[39;00m is_torch_xla_available()\n\u001b[0;32m   2560\u001b[0m     \u001b[38;5;129;01mand\u001b[39;00m (torch\u001b[38;5;241m.\u001b[39misnan(tr_loss_step) \u001b[38;5;129;01mor\u001b[39;00m torch\u001b[38;5;241m.\u001b[39misinf(tr_loss_step))\n\u001b[0;32m   2561\u001b[0m ):\n\u001b[0;32m   2562\u001b[0m     \u001b[38;5;66;03m# if loss is nan or inf simply add the average of previous logged losses\u001b[39;00m\n\u001b[0;32m   2563\u001b[0m     tr_loss \u001b[38;5;241m=\u001b[39m tr_loss \u001b[38;5;241m+\u001b[39m tr_loss \u001b[38;5;241m/\u001b[39m (\u001b[38;5;241m1\u001b[39m \u001b[38;5;241m+\u001b[39m \u001b[38;5;28mself\u001b[39m\u001b[38;5;241m.\u001b[39mstate\u001b[38;5;241m.\u001b[39mglobal_step \u001b[38;5;241m-\u001b[39m \u001b[38;5;28mself\u001b[39m\u001b[38;5;241m.\u001b[39m_globalstep_last_logged)\n",
      "File \u001b[1;32m~\\AppData\\Local\\Programs\\Python\\Python312\\Lib\\site-packages\\transformers\\trainer.py:3791\u001b[0m, in \u001b[0;36mTrainer.training_step\u001b[1;34m(***failed resolving arguments***)\u001b[0m\n\u001b[0;32m   3788\u001b[0m \u001b[38;5;28;01mif\u001b[39;00m \u001b[38;5;28mself\u001b[39m\u001b[38;5;241m.\u001b[39maccelerator\u001b[38;5;241m.\u001b[39mdistributed_type \u001b[38;5;241m==\u001b[39m DistributedType\u001b[38;5;241m.\u001b[39mDEEPSPEED:\n\u001b[0;32m   3789\u001b[0m     kwargs[\u001b[38;5;124m\"\u001b[39m\u001b[38;5;124mscale_wrt_gas\u001b[39m\u001b[38;5;124m\"\u001b[39m] \u001b[38;5;241m=\u001b[39m \u001b[38;5;28;01mFalse\u001b[39;00m\n\u001b[1;32m-> 3791\u001b[0m \u001b[38;5;28;43mself\u001b[39;49m\u001b[38;5;241;43m.\u001b[39;49m\u001b[43maccelerator\u001b[49m\u001b[38;5;241;43m.\u001b[39;49m\u001b[43mbackward\u001b[49m\u001b[43m(\u001b[49m\u001b[43mloss\u001b[49m\u001b[43m,\u001b[49m\u001b[43m \u001b[49m\u001b[38;5;241;43m*\u001b[39;49m\u001b[38;5;241;43m*\u001b[39;49m\u001b[43mkwargs\u001b[49m\u001b[43m)\u001b[49m\n\u001b[0;32m   3793\u001b[0m \u001b[38;5;28;01mreturn\u001b[39;00m loss\u001b[38;5;241m.\u001b[39mdetach()\n",
      "File \u001b[1;32m~\\AppData\\Local\\Programs\\Python\\Python312\\Lib\\site-packages\\accelerate\\accelerator.py:2473\u001b[0m, in \u001b[0;36mAccelerator.backward\u001b[1;34m(self, loss, **kwargs)\u001b[0m\n\u001b[0;32m   2471\u001b[0m     \u001b[38;5;28mself\u001b[39m\u001b[38;5;241m.\u001b[39mlomo_backward(loss, learning_rate)\n\u001b[0;32m   2472\u001b[0m \u001b[38;5;28;01melse\u001b[39;00m:\n\u001b[1;32m-> 2473\u001b[0m     \u001b[43mloss\u001b[49m\u001b[38;5;241;43m.\u001b[39;49m\u001b[43mbackward\u001b[49m\u001b[43m(\u001b[49m\u001b[38;5;241;43m*\u001b[39;49m\u001b[38;5;241;43m*\u001b[39;49m\u001b[43mkwargs\u001b[49m\u001b[43m)\u001b[49m\n",
      "File \u001b[1;32m~\\AppData\\Local\\Programs\\Python\\Python312\\Lib\\site-packages\\torch\\_tensor.py:626\u001b[0m, in \u001b[0;36mTensor.backward\u001b[1;34m(self, gradient, retain_graph, create_graph, inputs)\u001b[0m\n\u001b[0;32m    616\u001b[0m \u001b[38;5;28;01mif\u001b[39;00m has_torch_function_unary(\u001b[38;5;28mself\u001b[39m):\n\u001b[0;32m    617\u001b[0m     \u001b[38;5;28;01mreturn\u001b[39;00m handle_torch_function(\n\u001b[0;32m    618\u001b[0m         Tensor\u001b[38;5;241m.\u001b[39mbackward,\n\u001b[0;32m    619\u001b[0m         (\u001b[38;5;28mself\u001b[39m,),\n\u001b[1;32m   (...)\u001b[0m\n\u001b[0;32m    624\u001b[0m         inputs\u001b[38;5;241m=\u001b[39minputs,\n\u001b[0;32m    625\u001b[0m     )\n\u001b[1;32m--> 626\u001b[0m \u001b[43mtorch\u001b[49m\u001b[38;5;241;43m.\u001b[39;49m\u001b[43mautograd\u001b[49m\u001b[38;5;241;43m.\u001b[39;49m\u001b[43mbackward\u001b[49m\u001b[43m(\u001b[49m\n\u001b[0;32m    627\u001b[0m \u001b[43m    \u001b[49m\u001b[38;5;28;43mself\u001b[39;49m\u001b[43m,\u001b[49m\u001b[43m \u001b[49m\u001b[43mgradient\u001b[49m\u001b[43m,\u001b[49m\u001b[43m \u001b[49m\u001b[43mretain_graph\u001b[49m\u001b[43m,\u001b[49m\u001b[43m \u001b[49m\u001b[43mcreate_graph\u001b[49m\u001b[43m,\u001b[49m\u001b[43m \u001b[49m\u001b[43minputs\u001b[49m\u001b[38;5;241;43m=\u001b[39;49m\u001b[43minputs\u001b[49m\n\u001b[0;32m    628\u001b[0m \u001b[43m\u001b[49m\u001b[43m)\u001b[49m\n",
      "File \u001b[1;32m~\\AppData\\Local\\Programs\\Python\\Python312\\Lib\\site-packages\\torch\\autograd\\__init__.py:347\u001b[0m, in \u001b[0;36mbackward\u001b[1;34m(tensors, grad_tensors, retain_graph, create_graph, grad_variables, inputs)\u001b[0m\n\u001b[0;32m    342\u001b[0m     retain_graph \u001b[38;5;241m=\u001b[39m create_graph\n\u001b[0;32m    344\u001b[0m \u001b[38;5;66;03m# The reason we repeat the same comment below is that\u001b[39;00m\n\u001b[0;32m    345\u001b[0m \u001b[38;5;66;03m# some Python versions print out the first line of a multi-line function\u001b[39;00m\n\u001b[0;32m    346\u001b[0m \u001b[38;5;66;03m# calls in the traceback and some print out the last line\u001b[39;00m\n\u001b[1;32m--> 347\u001b[0m \u001b[43m_engine_run_backward\u001b[49m\u001b[43m(\u001b[49m\n\u001b[0;32m    348\u001b[0m \u001b[43m    \u001b[49m\u001b[43mtensors\u001b[49m\u001b[43m,\u001b[49m\n\u001b[0;32m    349\u001b[0m \u001b[43m    \u001b[49m\u001b[43mgrad_tensors_\u001b[49m\u001b[43m,\u001b[49m\n\u001b[0;32m    350\u001b[0m \u001b[43m    \u001b[49m\u001b[43mretain_graph\u001b[49m\u001b[43m,\u001b[49m\n\u001b[0;32m    351\u001b[0m \u001b[43m    \u001b[49m\u001b[43mcreate_graph\u001b[49m\u001b[43m,\u001b[49m\n\u001b[0;32m    352\u001b[0m \u001b[43m    \u001b[49m\u001b[43minputs\u001b[49m\u001b[43m,\u001b[49m\n\u001b[0;32m    353\u001b[0m \u001b[43m    \u001b[49m\u001b[43mallow_unreachable\u001b[49m\u001b[38;5;241;43m=\u001b[39;49m\u001b[38;5;28;43;01mTrue\u001b[39;49;00m\u001b[43m,\u001b[49m\n\u001b[0;32m    354\u001b[0m \u001b[43m    \u001b[49m\u001b[43maccumulate_grad\u001b[49m\u001b[38;5;241;43m=\u001b[39;49m\u001b[38;5;28;43;01mTrue\u001b[39;49;00m\u001b[43m,\u001b[49m\n\u001b[0;32m    355\u001b[0m \u001b[43m\u001b[49m\u001b[43m)\u001b[49m\n",
      "File \u001b[1;32m~\\AppData\\Local\\Programs\\Python\\Python312\\Lib\\site-packages\\torch\\autograd\\graph.py:823\u001b[0m, in \u001b[0;36m_engine_run_backward\u001b[1;34m(t_outputs, *args, **kwargs)\u001b[0m\n\u001b[0;32m    821\u001b[0m     unregister_hooks \u001b[38;5;241m=\u001b[39m _register_logging_hooks_on_whole_graph(t_outputs)\n\u001b[0;32m    822\u001b[0m \u001b[38;5;28;01mtry\u001b[39;00m:\n\u001b[1;32m--> 823\u001b[0m     \u001b[38;5;28;01mreturn\u001b[39;00m \u001b[43mVariable\u001b[49m\u001b[38;5;241;43m.\u001b[39;49m\u001b[43m_execution_engine\u001b[49m\u001b[38;5;241;43m.\u001b[39;49m\u001b[43mrun_backward\u001b[49m\u001b[43m(\u001b[49m\u001b[43m  \u001b[49m\u001b[38;5;66;43;03m# Calls into the C++ engine to run the backward pass\u001b[39;49;00m\n\u001b[0;32m    824\u001b[0m \u001b[43m        \u001b[49m\u001b[43mt_outputs\u001b[49m\u001b[43m,\u001b[49m\u001b[43m \u001b[49m\u001b[38;5;241;43m*\u001b[39;49m\u001b[43margs\u001b[49m\u001b[43m,\u001b[49m\u001b[43m \u001b[49m\u001b[38;5;241;43m*\u001b[39;49m\u001b[38;5;241;43m*\u001b[39;49m\u001b[43mkwargs\u001b[49m\n\u001b[0;32m    825\u001b[0m \u001b[43m    \u001b[49m\u001b[43m)\u001b[49m  \u001b[38;5;66;03m# Calls into the C++ engine to run the backward pass\u001b[39;00m\n\u001b[0;32m    826\u001b[0m \u001b[38;5;28;01mfinally\u001b[39;00m:\n\u001b[0;32m    827\u001b[0m     \u001b[38;5;28;01mif\u001b[39;00m attach_logging_hooks:\n",
      "\u001b[1;31mKeyboardInterrupt\u001b[0m: "
     ]
    }
   ],
   "source": [
    "## BERT fine-tuning\n",
    "# Функція метрик\n",
    "def compute_metrics(eval_pred):\n",
    "    logits, labels = eval_pred\n",
    "    preds = logits.argmax(axis=-1)\n",
    "    return {'f1': f1_score(labels, preds)}\n",
    "\n",
    "# Аргументи тренування\n",
    "args = TrainingArguments(\n",
    "    output_dir='./bert_out',\n",
    "    num_train_epochs=2,\n",
    "    per_device_train_batch_size=8,\n",
    "    logging_steps=100,\n",
    "    save_total_limit=1,\n",
    "    fp16=True,\n",
    "    report_to=[\"none\"]\n",
    ")\n",
    "\n",
    "trainer = Trainer(\n",
    "    model=model,\n",
    "    args=args,\n",
    "    train_dataset=train_ds,\n",
    "    data_collator=data_collator,\n",
    "    compute_metrics=compute_metrics\n",
    ")\n",
    "\n",
    "trainer.train()\n",
    "eval_results = trainer.evaluate(eval_dataset=val_ds)\n",
    "print(\"Eval results:\", eval_results)"
   ]
  },
  {
   "cell_type": "markdown",
   "metadata": {
    "id": "ZTvxy0u4_EDg"
   },
   "source": [
    "Eval results: {'eval_loss': 0.006941883824765682, 'eval_f1': 0.9990055405597386, 'eval_runtime': 25.8923, 'eval_samples_per_second': 258.841, 'eval_steps_per_second': 32.365, 'epoch': 2.0}"
   ]
  },
  {
   "cell_type": "markdown",
   "metadata": {},
   "source": [
    "### 5. Підбір гіперпараметрів для TF-IDF + LogisticRegression\n",
    "\n",
    "У цій секції ми використовуємо `GridSearchCV` з **5-fold StratifiedKFold**, щоб знайти найкращі налаштування:\n",
    "- **TF-IDF**: розмір словника (`max_features`), частотні пороги (`min_df`, `max_df`), n-грами (`ngram_range`).\n",
    "- **LogisticRegression**: параметр регуляризації `C`.\n",
    "  \n",
    "Ми оцінюємо якість за метрикою **F1-score** (макро-усереднена) для балансованого погляду на обидва класи."
   ]
  },
  {
   "cell_type": "code",
   "execution_count": 24,
   "metadata": {
    "id": "GFxlc9qB_QLr"
   },
   "outputs": [],
   "source": [
    "# 1) Підготувати TF-IDF за знайденими параметрами\n",
    "tfidf_final = TfidfVectorizer(\n",
    "    max_features=10000,\n",
    "    ngram_range=(1,2),\n",
    "    min_df=5,\n",
    "    max_df=0.8\n",
    ")\n",
    "X_train_full = tfidf_final.fit_transform(X_train)\n",
    "X_test_tfidf  = tfidf_final.transform(X_test)"
   ]
  },
  {
   "cell_type": "code",
   "execution_count": 25,
   "metadata": {
    "id": "k2xegfuw_TX3"
   },
   "outputs": [],
   "source": [
    "# 2) LogReg (C=10.0)\n",
    "final_lr = LogisticRegression(C=10.0, max_iter=1000, random_state=42)\n",
    "final_lr.fit(X_train_full, y_train)\n",
    "pred_lr = final_lr.predict(X_test_tfidf)"
   ]
  },
  {
   "cell_type": "code",
   "execution_count": 26,
   "metadata": {
    "id": "2XZbaQ8k_WP0"
   },
   "outputs": [],
   "source": [
    "# 3) RandomForest на тих же фічах\n",
    "final_rf = RandomForestClassifier(n_estimators=200, random_state=42)\n",
    "final_rf.fit(X_train_full, y_train)\n",
    "pred_rf = final_rf.predict(X_test_tfidf)"
   ]
  },
  {
   "cell_type": "code",
   "execution_count": 27,
   "metadata": {
    "colab": {
     "base_uri": "https://localhost:8080/"
    },
    "id": "glFTBcU8_YmD",
    "outputId": "6da0041c-de4c-4df1-a7c0-7644ac068ee1"
   },
   "outputs": [
    {
     "name": "stderr",
     "output_type": "stream",
     "text": [
      "C:\\Users\\linam\\AppData\\Local\\Programs\\Python\\Python312\\Lib\\site-packages\\xgboost\\training.py:183: UserWarning: [22:45:00] WARNING: C:\\actions-runner\\_work\\xgboost\\xgboost\\src\\common\\error_msg.cc:27: The tree method `gpu_hist` is deprecated since 2.0.0. To use GPU training, set the `device` parameter to CUDA instead.\n",
      "\n",
      "    E.g. tree_method = \"hist\", device = \"cuda\"\n",
      "\n",
      "  bst.update(dtrain, iteration=i, fobj=obj)\n",
      "C:\\Users\\linam\\AppData\\Local\\Programs\\Python\\Python312\\Lib\\site-packages\\xgboost\\training.py:183: UserWarning: [22:45:00] WARNING: C:\\actions-runner\\_work\\xgboost\\xgboost\\src\\learner.cc:738: \n",
      "Parameters: { \"use_label_encoder\" } are not used.\n",
      "\n",
      "  bst.update(dtrain, iteration=i, fobj=obj)\n",
      "C:\\Users\\linam\\AppData\\Local\\Programs\\Python\\Python312\\Lib\\site-packages\\xgboost\\core.py:2676: UserWarning: [22:45:01] WARNING: C:\\actions-runner\\_work\\xgboost\\xgboost\\src\\common\\error_msg.cc:27: The tree method `gpu_hist` is deprecated since 2.0.0. To use GPU training, set the `device` parameter to CUDA instead.\n",
      "\n",
      "    E.g. tree_method = \"hist\", device = \"cuda\"\n",
      "\n",
      "  if len(data.shape) != 1 and self.num_features() != data.shape[1]:\n",
      "C:\\Users\\linam\\AppData\\Local\\Programs\\Python\\Python312\\Lib\\site-packages\\xgboost\\core.py:729: UserWarning: [22:45:02] WARNING: C:\\actions-runner\\_work\\xgboost\\xgboost\\src\\common\\error_msg.cc:58: Falling back to prediction using DMatrix due to mismatched devices. This might lead to higher memory usage and slower performance. XGBoost is running on: cuda:0, while the input data is on: cpu.\n",
      "Potential solutions:\n",
      "- Use a data structure that matches the device ordinal in the booster.\n",
      "- Set the device for booster before call to inplace_predict.\n",
      "\n",
      "This warning will only be shown once.\n",
      "\n",
      "  return func(**kwargs)\n"
     ]
    }
   ],
   "source": [
    "# 4) XGBoost (GPU-прискорення, якщо є)\n",
    "final_xgb = XGBClassifier(\n",
    "    use_label_encoder=False,\n",
    "    eval_metric='logloss',\n",
    "    tree_method='gpu_hist'\n",
    ")\n",
    "final_xgb.fit(X_train_full, y_train)\n",
    "pred_xgb = final_xgb.predict(X_test_tfidf)"
   ]
  },
  {
   "cell_type": "markdown",
   "metadata": {},
   "source": [
    "Тут ми донастроюємо попередньо натреновану модель `bert-base-uncased` на нашому датасеті:\n",
    "- Зменшуємо `max_length` до 256, щоб пришвидшити навчання.\n",
    "- Використовуємо динамічний padding через `DataCollatorWithPadding`.\n",
    "- Оцінюємо F1 після кожної епохи.\n",
    "- Вимикаємо зовнішні логування (`report_to=[\"none\"]`)."
   ]
  },
  {
   "cell_type": "code",
   "execution_count": 28,
   "metadata": {
    "colab": {
     "base_uri": "https://localhost:8080/",
     "height": 17
    },
    "id": "UFUHe8uL_er1",
    "outputId": "fb3181c9-d29f-45f7-9ebb-28b2317ee9b2"
   },
   "outputs": [],
   "source": [
    "# 5) BERT — отримуємо предикти через Trainer\n",
    "# Створимо датасет для тесту (як в NewsDataset)\n",
    "test_ds = NewsDataset(X_test.tolist(), y_test.tolist())\n",
    "bert_out = trainer.predict(test_ds)\n",
    "pred_bert = bert_out.predictions.argmax(axis=-1)"
   ]
  },
  {
   "cell_type": "markdown",
   "metadata": {},
   "source": [
    "Ми тренуємо кожну модель на 70% даних (train), підбираємо/валідуємо на 15% (validation), а потім порівнюємо на 15% (test):\n",
    "- **LR + TF-IDF** з підібраними гіперпараметрами  \n",
    "- **RandomForest + TF-IDF**  \n",
    "- **XGBoost + TF-IDF**  \n",
    "- **BERT-fine­tuned**  "
   ]
  },
  {
   "cell_type": "code",
   "execution_count": 29,
   "metadata": {
    "colab": {
     "base_uri": "https://localhost:8080/"
    },
    "id": "mUdsaphj_hBI",
    "outputId": "20514af5-ac39-4e1e-8d61-34123143b8d1"
   },
   "outputs": [
    {
     "name": "stdout",
     "output_type": "stream",
     "text": [
      "            Model  Accuracy        F1\n",
      "0        LR+TFIDF  0.992838  0.993174\n",
      "1        RF+TFIDF  0.997314  0.997440\n",
      "2       XGB+TFIDF  0.867502  0.887310\n",
      "3  BERT-finetuned  0.998508  0.998581\n"
     ]
    }
   ],
   "source": [
    "# 6) Порахувати метрики для кожної моделі\n",
    "results = pd.DataFrame([\n",
    "    {\n",
    "      'Model'   : 'LR+TFIDF',\n",
    "      'Accuracy': accuracy_score(y_test, pred_lr),\n",
    "      'F1'      : f1_score(y_test, pred_lr)\n",
    "    },\n",
    "    {\n",
    "      'Model'   : 'RF+TFIDF',\n",
    "      'Accuracy': accuracy_score(y_test, pred_rf),\n",
    "      'F1'      : f1_score(y_test, pred_rf)\n",
    "    },\n",
    "    {\n",
    "      'Model'   : 'XGB+TFIDF',\n",
    "      'Accuracy': accuracy_score(y_test, pred_xgb),\n",
    "      'F1'      : f1_score(y_test, pred_xgb)\n",
    "    },\n",
    "    {\n",
    "      'Model'   : 'BERT-finetuned',\n",
    "      'Accuracy': accuracy_score(y_test, pred_bert),\n",
    "      'F1'      : f1_score(y_test, pred_bert)\n",
    "    }\n",
    "])\n",
    "\n",
    "print(results)"
   ]
  },
  {
   "cell_type": "markdown",
   "metadata": {
    "id": "v1h3TXrWAnzf"
   },
   "source": [
    "![image.png](data:image/png;base64,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)"
   ]
  },
  {
   "cell_type": "markdown",
   "metadata": {
    "id": "GUjAk5p8A39D"
   },
   "source": [
    "# Висновки\n",
    "Logistic Regression (бейзлайн)\n",
    "*  Досить висока точність і F1 (~0.994), але є простір для покращень.\n",
    "*  Швидко навчається та інтерпретується, підходить як легкий бек­енд.\n",
    "\n",
    "## Random Forest\n",
    "*   Дуже сильний результат: Accuracy ≈ 0.998, F1 ≈ 0.998.\n",
    "*   Мабуть, добре вловлює нелінійні взаємозв’язки TF-IDF-ознак.\n",
    "*   Мінус — він важчий за LR у розгортанні.\n",
    "\n",
    "## XGBoost\n",
    "*   Несподівано низька якість (Accuracy ≈ 0.72, F1 ≈ 0.64).\n",
    "*   Імовірні причини: Використання tree_method='gpu_hist' може потребувати додаткових налаштувань (max_depth, learning_rate, subsample).\n",
    "\n",
    "Варто зробити гіперпошук (наприклад, RandomizedSearchCV) для n_estimators, max_depth, learning_rate тощо.\n",
    "\n",
    "## BERT-fine­tuned\n",
    "*   Найкращий результат: Accuracy ≈ 0.999, F1 ≈ 0.999.\n",
    "*   Показує, що модель захопила глибші контекстні залежності в тексті.\n",
    "*   Мінус — тренування й інференс значно повільніші й потребують GPU.\n",
    "\n"
   ]
  },
  {
   "cell_type": "markdown",
   "metadata": {},
   "source": [
    "# Зберігаємо:"
   ]
  },
  {
   "cell_type": "code",
   "execution_count": 32,
   "metadata": {},
   "outputs": [
    {
     "name": "stderr",
     "output_type": "stream",
     "text": [
      "C:\\Users\\linam\\AppData\\Local\\Programs\\Python\\Python312\\Lib\\site-packages\\xgboost\\training.py:183: UserWarning: [00:31:47] WARNING: C:\\actions-runner\\_work\\xgboost\\xgboost\\src\\common\\error_msg.cc:27: The tree method `gpu_hist` is deprecated since 2.0.0. To use GPU training, set the `device` parameter to CUDA instead.\n",
      "\n",
      "    E.g. tree_method = \"hist\", device = \"cuda\"\n",
      "\n",
      "  bst.update(dtrain, iteration=i, fobj=obj)\n",
      "C:\\Users\\linam\\AppData\\Local\\Programs\\Python\\Python312\\Lib\\site-packages\\xgboost\\training.py:183: UserWarning: [00:31:47] WARNING: C:\\actions-runner\\_work\\xgboost\\xgboost\\src\\learner.cc:738: \n",
      "Parameters: { \"use_label_encoder\" } are not used.\n",
      "\n",
      "  bst.update(dtrain, iteration=i, fobj=obj)\n",
      "C:\\Users\\linam\\AppData\\Local\\Programs\\Python\\Python312\\Lib\\pickle.py:575: UserWarning: [00:31:48] WARNING: C:\\actions-runner\\_work\\xgboost\\xgboost\\src\\common\\error_msg.cc:27: The tree method `gpu_hist` is deprecated since 2.0.0. To use GPU training, set the `device` parameter to CUDA instead.\n",
      "\n",
      "    E.g. tree_method = \"hist\", device = \"cuda\"\n",
      "\n",
      "  rv = reduce(self.proto)\n"
     ]
    },
    {
     "name": "stdout",
     "output_type": "stream",
     "text": [
      " Моделі й метрики збережено.\n"
     ]
    }
   ],
   "source": [
    "# 1) Підготовка папок\n",
    "os.makedirs('models/original', exist_ok=True)\n",
    "os.makedirs('results', exist_ok=True)\n",
    "\n",
    "# 2) Baseline: CountVectorizer + LR\n",
    "cv_base = CountVectorizer(\n",
    "    max_features=5000,\n",
    "    ngram_range=(1,2),\n",
    "    min_df=2,\n",
    "    max_df=0.8\n",
    ")\n",
    "lr_base = LogisticRegression(C=1.0, max_iter=1000, random_state=42)\n",
    "\n",
    "pipeline_base = Pipeline([\n",
    "    ('countv', cv_base),\n",
    "    ('lr',     lr_base)\n",
    "])\n",
    "pipeline_base.fit(X_train, y_train)\n",
    "joblib.dump(pipeline_base, 'models/original/lr_baseline_countv.pkl')\n",
    "\n",
    "# 3) TF-IDF + LR (tuned)\n",
    "tfidf_tuned = TfidfVectorizer(\n",
    "    max_features=gs.best_params_['tfidf__max_features'],\n",
    "    ngram_range=gs.best_params_['tfidf__ngram_range'],\n",
    "    min_df=gs.best_params_['tfidf__min_df'],\n",
    "    max_df=gs.best_params_['tfidf__max_df']\n",
    ")\n",
    "lr_tuned = LogisticRegression(\n",
    "    C=gs.best_params_['lr__C'],\n",
    "    max_iter=1000,\n",
    "    random_state=42\n",
    ")\n",
    "\n",
    "pipeline_tuned = Pipeline([\n",
    "    ('tfidf', tfidf_tuned),\n",
    "    ('lr',    lr_tuned)\n",
    "])\n",
    "pipeline_tuned.fit(X_train, y_train)\n",
    "joblib.dump(pipeline_tuned, 'models/original/lr_tfidf_tuned.pkl')\n",
    "\n",
    "# 4) RandomForest + TF-IDF\n",
    "pipeline_rf = Pipeline([\n",
    "    ('tfidf', tfidf_tuned),\n",
    "    ('rf',    RandomForestClassifier(n_estimators=200, random_state=42))\n",
    "])\n",
    "pipeline_rf.fit(X_train, y_train)\n",
    "joblib.dump(pipeline_rf, 'models/original/rf_tfidf.pkl')\n",
    "\n",
    "# 5) XGBoost + TF-IDF\n",
    "pipeline_xgb = Pipeline([\n",
    "    ('tfidf', tfidf_tuned),\n",
    "    ('xgb',   XGBClassifier(use_label_encoder=False, eval_metric='logloss', tree_method='gpu_hist'))\n",
    "])\n",
    "pipeline_xgb.fit(X_train, y_train)\n",
    "joblib.dump(pipeline_xgb, 'models/original/xgb_tfidf.pkl')\n",
    "\n",
    "# 6) Збереження BERT\n",
    "trainer.save_model('models/original/bert_finetuned')\n",
    "tokenizer.save_pretrained('models/original/bert_finetuned')\n",
    "\n",
    "# 7) Фінальні метрики та експорт у CSV\n",
    "pred_base  = pipeline_base.predict(X_test)\n",
    "pred_tuned = pipeline_tuned.predict(X_test)\n",
    "pred_rf    = pipeline_rf.predict(X_test)\n",
    "pred_xgb   = pipeline_xgb.predict(X_test)\n",
    "bert_preds = trainer.predict(NewsDataset(X_test.tolist(), y_test.tolist())).predictions.argmax(axis=-1)\n",
    "\n",
    "results = pd.DataFrame([\n",
    "    {'Model':'LR+CountV (baseline)', 'Accuracy':accuracy_score(y_test, pred_base),  'F1':f1_score(y_test, pred_base)},\n",
    "    {'Model':'LR+TFIDF (tuned)',     'Accuracy':accuracy_score(y_test, pred_tuned),'F1':f1_score(y_test, pred_tuned)},\n",
    "    {'Model':'RF+TFIDF',             'Accuracy':accuracy_score(y_test, pred_rf),     'F1':f1_score(y_test, pred_rf)},\n",
    "    {'Model':'XGB+TFIDF',            'Accuracy':accuracy_score(y_test, pred_xgb),    'F1':f1_score(y_test, pred_xgb)},\n",
    "    {'Model':'BERT-finetuned',       'Accuracy':accuracy_score(y_test, bert_preds),'F1':f1_score(y_test, bert_preds)}\n",
    "])\n",
    "results.to_csv('results/final_model_comparison.csv', index=False)\n",
    "print(\" Моделі й метрики збережено.\")"
   ]
  }
 ],
 "metadata": {
  "accelerator": "GPU",
  "colab": {
   "gpuType": "T4",
   "provenance": []
  },
  "kernelspec": {
   "display_name": "Python 3 (ipykernel)",
   "language": "python",
   "name": "python3"
  },
  "language_info": {
   "codemirror_mode": {
    "name": "ipython",
    "version": 3
   },
   "file_extension": ".py",
   "mimetype": "text/x-python",
   "name": "python",
   "nbconvert_exporter": "python",
   "pygments_lexer": "ipython3",
   "version": "3.12.6"
  }
 },
 "nbformat": 4,
 "nbformat_minor": 4
}
